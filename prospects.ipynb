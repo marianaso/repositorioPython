{
 "cells": [
  {
   "cell_type": "code",
   "execution_count": 4,
   "id": "430e1a9a",
   "metadata": {},
   "outputs": [],
   "source": [
    "import pandas as pd\n",
    "import numpy as np"
   ]
  },
  {
   "cell_type": "code",
   "execution_count": 5,
   "id": "9db0bac8",
   "metadata": {},
   "outputs": [],
   "source": [
    "municipios = pd.read_csv('F.K03200$Z.D21217.MUNIC.CSV', sep = ';', header=None)\n",
    "municipios.columns = ['COD', 'NOME_MUNICIPIO']"
   ]
  },
  {
   "cell_type": "code",
   "execution_count": 69,
   "id": "6ad4c1ac",
   "metadata": {},
   "outputs": [
    {
     "name": "stderr",
     "output_type": "stream",
     "text": [
      "/Users/marianaoliveira/opt/anaconda3/lib/python3.8/site-packages/IPython/core/interactiveshell.py:3165: DtypeWarning: Columns (8,25,26,28) have mixed types.Specify dtype option on import or set low_memory=False.\n",
      "  has_raised = await self.run_ast_nodes(code_ast.body, cell_name,\n"
     ]
    }
   ],
   "source": [
    "estab = pd.read_csv('K3241.K03200Y9.D21217.ESTABELE.csv', sep = ';', header=None,dtype={0: str, 1: str, 2: str, 15: str, 16:str, 18:str, 21:str, 22:str,23:str, 24:str})\n",
    "\n",
    "estab.columns = ['CNPJ_BASICO', 'CNPJ_ORDEM', 'CNPJ_DV', 'MATRIZ/FILIAL', 'NOME_FANTASIA', 'SITUACAO_CADASTRAL', 'DATA_SIT_CAD',\n",
    "                'MOTIVO_SIT_CAD', 'NOME_CIDADE_EXT', 'PAIS', 'DATA_INICIO_ATIV', 'CNAE', 'CNAE_SEC', 'TIPO_LOG', 'LOGRADOURO', 'NUM',\n",
    "                'COMPLEMENTO', 'BAIRRO', 'CEP', 'UF', 'MUNICIPIO', 'DDD1', 'TELEFONE1', 'DDD2', 'TELEFONE2', 'DDDFAX', 'TELEFONE_FAX',\n",
    "                'CORREIO_ELET', 'SITUACAO_ESP', 'DATA_SIT_ESP']"
   ]
  },
  {
   "cell_type": "code",
   "execution_count": 70,
   "id": "43a3e6a3",
   "metadata": {},
   "outputs": [],
   "source": [
    "filtroCNAE = estab.loc[estab['CNAE'] == 4744099] \n",
    "filtroCNAE1 = estab.loc[estab['CNAE_SEC'] == 4744099] \n",
    "estab1 = pd.concat([filtroCNAE, filtroCNAE1])"
   ]
  },
  {
   "cell_type": "code",
   "execution_count": 71,
   "id": "4646d25d",
   "metadata": {},
   "outputs": [],
   "source": [
    "estab1 = estab1[['CNPJ_BASICO', 'CNPJ_ORDEM', 'CNPJ_DV', 'MATRIZ/FILIAL', 'NOME_FANTASIA', 'SITUACAO_CADASTRAL', 'DATA_SIT_CAD','DATA_INICIO_ATIV', 'TIPO_LOG', 'LOGRADOURO', 'NUM',\n",
    "                'COMPLEMENTO', 'BAIRRO', 'CEP', 'UF', 'MUNICIPIO','DDD1', 'TELEFONE1', 'DDD2', 'TELEFONE2']]"
   ]
  },
  {
   "cell_type": "code",
   "execution_count": 72,
   "id": "787f3de1",
   "metadata": {},
   "outputs": [],
   "source": [
    "ES = estab1.loc[estab1['UF'] == 'ES']\n",
    "BA = estab1.loc[estab1['UF'] == 'BA'] \n",
    "MG = estab1.loc[estab1['UF'] == 'MG']\n",
    "SP = estab1.loc[estab1['UF'] == 'SP'] \n",
    "RJ = estab1.loc[estab1['UF'] == 'RJ']"
   ]
  },
  {
   "cell_type": "code",
   "execution_count": 73,
   "id": "93fe47d9",
   "metadata": {},
   "outputs": [],
   "source": [
    "ES1 = (pd.concat([ES1, ES])).reset_index(drop=True)\n",
    "BA1 = (pd.concat([BA1, BA])).reset_index(drop=True)\n",
    "MG1 = (pd.concat([MG1, MG])).reset_index(drop=True)\n",
    "SP1 = (pd.concat([SP1, SP])).reset_index(drop=True)\n",
    "RJ1 = (pd.concat([RJ1, RJ])).reset_index(drop=True)"
   ]
  },
  {
   "cell_type": "code",
   "execution_count": 74,
   "id": "3852d4c0",
   "metadata": {
    "scrolled": true
   },
   "outputs": [
    {
     "name": "stdout",
     "output_type": "stream",
     "text": [
      "8134\n",
      "34800\n",
      "63817\n",
      "33497\n",
      "31126\n"
     ]
    }
   ],
   "source": [
    "print(len(ES1))\n",
    "print(len(BA1))\n",
    "print(len(SP1))\n",
    "print(len(RJ1))\n",
    "print(len(MG1))"
   ]
  },
  {
   "cell_type": "code",
   "execution_count": 75,
   "id": "61dc6b80",
   "metadata": {},
   "outputs": [],
   "source": [
    "ES1.to_csv( \"espirito_santo.csv\", index=False, sep=';')\n",
    "BA1.to_csv( \"bahia.csv\", index=False, sep=';')\n",
    "MG1.to_csv( \"minas_gerais.csv\", index=False, sep=';')\n",
    "SP1.to_csv( \"sao_paulo.csv\", index=False, sep=';')\n",
    "RJ1.to_csv( \"rio_de_janeiro.csv\", index=False, sep=';')"
   ]
  },
  {
   "cell_type": "code",
   "execution_count": 10,
   "id": "156af302",
   "metadata": {},
   "outputs": [],
   "source": [
    "##USAR NA PRIMEIRA RODADA\n",
    "ES1 = ES\n",
    "BA1 = BA\n",
    "MG1 = MG\n",
    "SP1 = SP\n",
    "RJ1 = RJ"
   ]
  },
  {
   "cell_type": "code",
   "execution_count": 76,
   "id": "8c4817c1",
   "metadata": {},
   "outputs": [],
   "source": [
    "ES1 = ES1.set_index('MUNICIPIO').join(municipios.set_index('COD'))\n",
    "BA1 = BA1.set_index('MUNICIPIO').join(municipios.set_index('COD'))\n",
    "MG1 = MG1.set_index('MUNICIPIO').join(municipios.set_index('COD'))\n",
    "SP1 = SP1.set_index('MUNICIPIO').join(municipios.set_index('COD'))\n",
    "RJ1 = RJ1.set_index('MUNICIPIO').join(municipios.set_index('COD'))"
   ]
  },
  {
   "cell_type": "code",
   "execution_count": 140,
   "id": "fa9e7572",
   "metadata": {},
   "outputs": [],
   "source": [
    "arq = RJ1"
   ]
  },
  {
   "cell_type": "code",
   "execution_count": 141,
   "id": "03927314",
   "metadata": {},
   "outputs": [
    {
     "data": {
      "text/plain": [
       "33497"
      ]
     },
     "execution_count": 141,
     "metadata": {},
     "output_type": "execute_result"
    }
   ],
   "source": [
    "len(arq)"
   ]
  },
  {
   "cell_type": "code",
   "execution_count": 142,
   "id": "37384f20",
   "metadata": {},
   "outputs": [],
   "source": [
    "arq = arq.loc[arq[\"SITUACAO_CADASTRAL\"] == 2]\n"
   ]
  },
  {
   "cell_type": "code",
   "execution_count": 143,
   "id": "65b5711e",
   "metadata": {},
   "outputs": [
    {
     "name": "stderr",
     "output_type": "stream",
     "text": [
      "<ipython-input-143-fb96df7566cf>:1: SettingWithCopyWarning: \n",
      "A value is trying to be set on a copy of a slice from a DataFrame.\n",
      "Try using .loc[row_indexer,col_indexer] = value instead\n",
      "\n",
      "See the caveats in the documentation: https://pandas.pydata.org/pandas-docs/stable/user_guide/indexing.html#returning-a-view-versus-a-copy\n",
      "  arq['CNPJ_BASICO1'] = arq['CNPJ_BASICO'].str[0:2]+ '.' + arq['CNPJ_BASICO'].str[2:5]+ '.' + arq['CNPJ_BASICO'].str[5:8]\n"
     ]
    }
   ],
   "source": [
    "arq['CNPJ_BASICO1'] = arq['CNPJ_BASICO'].str[0:2]+ '.' + arq['CNPJ_BASICO'].str[2:5]+ '.' + arq['CNPJ_BASICO'].str[5:8]"
   ]
  },
  {
   "cell_type": "code",
   "execution_count": 144,
   "id": "da8ae1f1",
   "metadata": {},
   "outputs": [
    {
     "name": "stderr",
     "output_type": "stream",
     "text": [
      "<ipython-input-144-10cc54610ccb>:1: SettingWithCopyWarning: \n",
      "A value is trying to be set on a copy of a slice from a DataFrame.\n",
      "Try using .loc[row_indexer,col_indexer] = value instead\n",
      "\n",
      "See the caveats in the documentation: https://pandas.pydata.org/pandas-docs/stable/user_guide/indexing.html#returning-a-view-versus-a-copy\n",
      "  arq['CNPJ'] = arq['CNPJ_BASICO1']+ '/'+  arq['CNPJ_ORDEM'] + '-'+ arq['CNPJ_DV']\n"
     ]
    }
   ],
   "source": [
    "arq['CNPJ'] = arq['CNPJ_BASICO1']+ '/'+  arq['CNPJ_ORDEM'] + '-'+ arq['CNPJ_DV']"
   ]
  },
  {
   "cell_type": "code",
   "execution_count": 145,
   "id": "8d9af322",
   "metadata": {
    "scrolled": true
   },
   "outputs": [
    {
     "name": "stderr",
     "output_type": "stream",
     "text": [
      "/Users/marianaoliveira/opt/anaconda3/lib/python3.8/site-packages/pandas/core/indexing.py:1720: SettingWithCopyWarning: \n",
      "A value is trying to be set on a copy of a slice from a DataFrame.\n",
      "Try using .loc[row_indexer,col_indexer] = value instead\n",
      "\n",
      "See the caveats in the documentation: https://pandas.pydata.org/pandas-docs/stable/user_guide/indexing.html#returning-a-view-versus-a-copy\n",
      "  self._setitem_single_column(loc, value, pi)\n"
     ]
    }
   ],
   "source": [
    "arq.loc[arq[\"MATRIZ/FILIAL\"] == 1, \"MATRIZ/FILIAL\"] = 'MATRIZ'\n",
    "arq.loc[arq[\"MATRIZ/FILIAL\"] == 2, \"MATRIZ/FILIAL\"] = 'FILIAL'"
   ]
  },
  {
   "cell_type": "code",
   "execution_count": 146,
   "id": "0ad104c3",
   "metadata": {},
   "outputs": [
    {
     "name": "stderr",
     "output_type": "stream",
     "text": [
      "<ipython-input-146-3eaf8826fd81>:1: SettingWithCopyWarning: \n",
      "A value is trying to be set on a copy of a slice from a DataFrame.\n",
      "Try using .loc[row_indexer,col_indexer] = value instead\n",
      "\n",
      "See the caveats in the documentation: https://pandas.pydata.org/pandas-docs/stable/user_guide/indexing.html#returning-a-view-versus-a-copy\n",
      "  arq['TELEFONE1'] = arq['DDD1'].astype(str) + arq['TELEFONE1'].astype(str)\n",
      "<ipython-input-146-3eaf8826fd81>:2: SettingWithCopyWarning: \n",
      "A value is trying to be set on a copy of a slice from a DataFrame.\n",
      "Try using .loc[row_indexer,col_indexer] = value instead\n",
      "\n",
      "See the caveats in the documentation: https://pandas.pydata.org/pandas-docs/stable/user_guide/indexing.html#returning-a-view-versus-a-copy\n",
      "  arq['TELEFONE2'] = arq['DDD2'].astype(str) + arq['TELEFONE2'].astype(str)\n"
     ]
    }
   ],
   "source": [
    "arq['TELEFONE1'] = arq['DDD1'].astype(str) + arq['TELEFONE1'].astype(str)\n",
    "arq['TELEFONE2'] = arq['DDD2'].astype(str) + arq['TELEFONE2'].astype(str)"
   ]
  },
  {
   "cell_type": "code",
   "execution_count": 147,
   "id": "8d2af525",
   "metadata": {},
   "outputs": [
    {
     "name": "stderr",
     "output_type": "stream",
     "text": [
      "<ipython-input-147-aa5c9e315571>:1: SettingWithCopyWarning: \n",
      "A value is trying to be set on a copy of a slice from a DataFrame.\n",
      "Try using .loc[row_indexer,col_indexer] = value instead\n",
      "\n",
      "See the caveats in the documentation: https://pandas.pydata.org/pandas-docs/stable/user_guide/indexing.html#returning-a-view-versus-a-copy\n",
      "  arq['ENDERECO'] = arq['TIPO_LOG'] + ' ' + arq['LOGRADOURO'] + ', ' + arq['NUM'] + ' - ' + arq['COMPLEMENTO'].astype(str) + ' - ' + arq['BAIRRO'] + ', ' + arq['CEP']\n"
     ]
    }
   ],
   "source": [
    "arq['ENDERECO'] = arq['TIPO_LOG'] + ' ' + arq['LOGRADOURO'] + ', ' + arq['NUM'] + ' - ' + arq['COMPLEMENTO'].astype(str) + ' - ' + arq['BAIRRO'] + ', ' + arq['CEP']"
   ]
  },
  {
   "cell_type": "code",
   "execution_count": 148,
   "id": "c1d494a5",
   "metadata": {},
   "outputs": [
    {
     "name": "stderr",
     "output_type": "stream",
     "text": [
      "<ipython-input-148-5c76bfb3746c>:1: SettingWithCopyWarning: \n",
      "A value is trying to be set on a copy of a slice from a DataFrame.\n",
      "Try using .loc[row_indexer,col_indexer] = value instead\n",
      "\n",
      "See the caveats in the documentation: https://pandas.pydata.org/pandas-docs/stable/user_guide/indexing.html#returning-a-view-versus-a-copy\n",
      "  arq['ENDERECO'] = arq['ENDERECO'].str.replace('- nan -', '-')\n"
     ]
    }
   ],
   "source": [
    "arq['ENDERECO'] = arq['ENDERECO'].str.replace('- nan -', '-')"
   ]
  },
  {
   "cell_type": "code",
   "execution_count": 149,
   "id": "2da92975",
   "metadata": {},
   "outputs": [
    {
     "name": "stderr",
     "output_type": "stream",
     "text": [
      "<ipython-input-149-0cf38ec4eca8>:1: SettingWithCopyWarning: \n",
      "A value is trying to be set on a copy of a slice from a DataFrame.\n",
      "Try using .loc[row_indexer,col_indexer] = value instead\n",
      "\n",
      "See the caveats in the documentation: https://pandas.pydata.org/pandas-docs/stable/user_guide/indexing.html#returning-a-view-versus-a-copy\n",
      "  arq['DATA_SIT_CAD'] = arq['DATA_SIT_CAD'].astype(str).str[0:4]+ '-' + arq['DATA_SIT_CAD'].astype(str).str[4:6]+ '-' + arq['DATA_SIT_CAD'].astype(str).str[6:8]\n"
     ]
    }
   ],
   "source": [
    "arq['DATA_SIT_CAD'] = arq['DATA_SIT_CAD'].astype(str).str[0:4]+ '-' + arq['DATA_SIT_CAD'].astype(str).str[4:6]+ '-' + arq['DATA_SIT_CAD'].astype(str).str[6:8]"
   ]
  },
  {
   "cell_type": "code",
   "execution_count": 150,
   "id": "9a5192b9",
   "metadata": {},
   "outputs": [
    {
     "name": "stderr",
     "output_type": "stream",
     "text": [
      "<ipython-input-150-2dc84b18d9ee>:1: SettingWithCopyWarning: \n",
      "A value is trying to be set on a copy of a slice from a DataFrame.\n",
      "Try using .loc[row_indexer,col_indexer] = value instead\n",
      "\n",
      "See the caveats in the documentation: https://pandas.pydata.org/pandas-docs/stable/user_guide/indexing.html#returning-a-view-versus-a-copy\n",
      "  arq['DATA_INICIO_ATIV'] = arq['DATA_INICIO_ATIV'].astype(str).str[0:4]+ '-' + arq['DATA_INICIO_ATIV'].astype(str).str[4:6]+ '-' + arq['DATA_INICIO_ATIV'].astype(str).str[6:8]\n"
     ]
    }
   ],
   "source": [
    "arq['DATA_INICIO_ATIV'] = arq['DATA_INICIO_ATIV'].astype(str).str[0:4]+ '-' + arq['DATA_INICIO_ATIV'].astype(str).str[4:6]+ '-' + arq['DATA_INICIO_ATIV'].astype(str).str[6:8]"
   ]
  },
  {
   "cell_type": "code",
   "execution_count": 151,
   "id": "a279c5cc",
   "metadata": {},
   "outputs": [],
   "source": [
    "arq = arq.reset_index()"
   ]
  },
  {
   "cell_type": "code",
   "execution_count": 152,
   "id": "2181be45",
   "metadata": {},
   "outputs": [],
   "source": [
    "arq = arq[['CNPJ', 'MATRIZ/FILIAL', 'NOME_FANTASIA', 'DATA_SIT_CAD', 'DATA_INICIO_ATIV', \n",
    "           'NOME_MUNICIPIO', 'UF', 'ENDERECO', 'TELEFONE1', 'TELEFONE2', 'CNPJ_BASICO']]"
   ]
  },
  {
   "cell_type": "code",
   "execution_count": 153,
   "id": "46034717",
   "metadata": {
    "scrolled": true
   },
   "outputs": [
    {
     "data": {
      "text/html": [
       "<div>\n",
       "<style scoped>\n",
       "    .dataframe tbody tr th:only-of-type {\n",
       "        vertical-align: middle;\n",
       "    }\n",
       "\n",
       "    .dataframe tbody tr th {\n",
       "        vertical-align: top;\n",
       "    }\n",
       "\n",
       "    .dataframe thead th {\n",
       "        text-align: right;\n",
       "    }\n",
       "</style>\n",
       "<table border=\"1\" class=\"dataframe\">\n",
       "  <thead>\n",
       "    <tr style=\"text-align: right;\">\n",
       "      <th></th>\n",
       "      <th>CNPJ</th>\n",
       "      <th>MATRIZ/FILIAL</th>\n",
       "      <th>NOME_FANTASIA</th>\n",
       "      <th>DATA_SIT_CAD</th>\n",
       "      <th>DATA_INICIO_ATIV</th>\n",
       "      <th>NOME_MUNICIPIO</th>\n",
       "      <th>UF</th>\n",
       "      <th>ENDERECO</th>\n",
       "      <th>TELEFONE1</th>\n",
       "      <th>TELEFONE2</th>\n",
       "      <th>CNPJ_BASICO</th>\n",
       "    </tr>\n",
       "  </thead>\n",
       "  <tbody>\n",
       "    <tr>\n",
       "      <th>0</th>\n",
       "      <td>48.655.028/0001-93</td>\n",
       "      <td>MATRIZ</td>\n",
       "      <td>CASA DO CIMENTO</td>\n",
       "      <td>2022-11-18</td>\n",
       "      <td>2022-11-18</td>\n",
       "      <td>ARMACAO DOS BUZIOS</td>\n",
       "      <td>RJ</td>\n",
       "      <td>RUA ALVARO GONCALVES DOS SANTOS, 30 - RASA, 28...</td>\n",
       "      <td>2299001442</td>\n",
       "      <td>nannan</td>\n",
       "      <td>48655028</td>\n",
       "    </tr>\n",
       "    <tr>\n",
       "      <th>1</th>\n",
       "      <td>35.897.727/0001-06</td>\n",
       "      <td>MATRIZ</td>\n",
       "      <td>PONTAL MATERIAIS DE CONSTRUCAO</td>\n",
       "      <td>2004-07-10</td>\n",
       "      <td>1989-11-28</td>\n",
       "      <td>ARMACAO DOS BUZIOS</td>\n",
       "      <td>RJ</td>\n",
       "      <td>AVENIDA JOSE BENTO RIBEIRO DANTAS, 04 - QUADRA...</td>\n",
       "      <td>2226291258</td>\n",
       "      <td>nannan</td>\n",
       "      <td>35897727</td>\n",
       "    </tr>\n",
       "    <tr>\n",
       "      <th>2</th>\n",
       "      <td>07.795.506/0001-83</td>\n",
       "      <td>MATRIZ</td>\n",
       "      <td>CASA DAS CALHAS AQUINO</td>\n",
       "      <td>2006-01-12</td>\n",
       "      <td>2006-01-12</td>\n",
       "      <td>ARMACAO DOS BUZIOS</td>\n",
       "      <td>RJ</td>\n",
       "      <td>AVENIDA JOSE BENTO RIBEIRO DANTAS, 1004 - MANG...</td>\n",
       "      <td>2226448021</td>\n",
       "      <td>nannan</td>\n",
       "      <td>07795506</td>\n",
       "    </tr>\n",
       "    <tr>\n",
       "      <th>3</th>\n",
       "      <td>10.908.849/0001-11</td>\n",
       "      <td>MATRIZ</td>\n",
       "      <td>STHEFANY PISOS</td>\n",
       "      <td>2021-07-06</td>\n",
       "      <td>2009-05-04</td>\n",
       "      <td>ARMACAO DOS BUZIOS</td>\n",
       "      <td>RJ</td>\n",
       "      <td>RUA 35, 08 - VILA VERDE, 28950000</td>\n",
       "      <td>2227718261</td>\n",
       "      <td>2288232514</td>\n",
       "      <td>10908849</td>\n",
       "    </tr>\n",
       "    <tr>\n",
       "      <th>4</th>\n",
       "      <td>11.168.542/0001-94</td>\n",
       "      <td>MATRIZ</td>\n",
       "      <td>NaN</td>\n",
       "      <td>2009-09-10</td>\n",
       "      <td>2009-09-10</td>\n",
       "      <td>ARMACAO DOS BUZIOS</td>\n",
       "      <td>RJ</td>\n",
       "      <td>AVENIDA JOSE BENTO RIBEIRO DANTAS, 1001 - MANG...</td>\n",
       "      <td>2226236965</td>\n",
       "      <td>nannan</td>\n",
       "      <td>11168542</td>\n",
       "    </tr>\n",
       "    <tr>\n",
       "      <th>5</th>\n",
       "      <td>10.635.668/0001-69</td>\n",
       "      <td>MATRIZ</td>\n",
       "      <td>LAGOS REPRESENTACOES</td>\n",
       "      <td>2020-01-29</td>\n",
       "      <td>2009-01-29</td>\n",
       "      <td>ARMACAO DOS BUZIOS</td>\n",
       "      <td>RJ</td>\n",
       "      <td>RUA ALVARO GONCALVES DOS SANTOS, 30 - RASA, 28...</td>\n",
       "      <td>2299599466</td>\n",
       "      <td>nannan</td>\n",
       "      <td>10635668</td>\n",
       "    </tr>\n",
       "    <tr>\n",
       "      <th>6</th>\n",
       "      <td>29.803.331/0001-41</td>\n",
       "      <td>MATRIZ</td>\n",
       "      <td>NaN</td>\n",
       "      <td>2022-02-21</td>\n",
       "      <td>2018-02-28</td>\n",
       "      <td>ARMACAO DOS BUZIOS</td>\n",
       "      <td>RJ</td>\n",
       "      <td>RUA Dois Amores  Lote 02, 04 - Tucuns, 28950000</td>\n",
       "      <td>2226234786</td>\n",
       "      <td>nannan</td>\n",
       "      <td>29803331</td>\n",
       "    </tr>\n",
       "    <tr>\n",
       "      <th>7</th>\n",
       "      <td>37.927.956/0002-24</td>\n",
       "      <td>FILIAL</td>\n",
       "      <td>ATACADAO DO PSIO</td>\n",
       "      <td>2020-08-12</td>\n",
       "      <td>2020-08-12</td>\n",
       "      <td>ARMACAO DOS BUZIOS</td>\n",
       "      <td>RJ</td>\n",
       "      <td>AVENIDA JOSE BENTO RIBEIRO DANTAS, SN - LOJA  ...</td>\n",
       "      <td>2226441320</td>\n",
       "      <td>nannan</td>\n",
       "      <td>37927956</td>\n",
       "    </tr>\n",
       "    <tr>\n",
       "      <th>8</th>\n",
       "      <td>39.494.845/0001-16</td>\n",
       "      <td>MATRIZ</td>\n",
       "      <td>ART DESIGN</td>\n",
       "      <td>2020-10-20</td>\n",
       "      <td>2020-10-20</td>\n",
       "      <td>ARMACAO DOS BUZIOS</td>\n",
       "      <td>RJ</td>\n",
       "      <td>AVENIDA JOSE BENTO RIBEIRO DANTA, SN - LOTE 41...</td>\n",
       "      <td>2274019699</td>\n",
       "      <td>nannan</td>\n",
       "      <td>39494845</td>\n",
       "    </tr>\n",
       "    <tr>\n",
       "      <th>9</th>\n",
       "      <td>35.533.943/0001-64</td>\n",
       "      <td>MATRIZ</td>\n",
       "      <td>GARRA PATAS E ASAS</td>\n",
       "      <td>2019-11-18</td>\n",
       "      <td>2019-11-18</td>\n",
       "      <td>ARMACAO DOS BUZIOS</td>\n",
       "      <td>RJ</td>\n",
       "      <td>RUA 22, S/N - RASA, 28950000</td>\n",
       "      <td>2296227513</td>\n",
       "      <td>nannan</td>\n",
       "      <td>35533943</td>\n",
       "    </tr>\n",
       "    <tr>\n",
       "      <th>10</th>\n",
       "      <td>48.533.936/0001-04</td>\n",
       "      <td>MATRIZ</td>\n",
       "      <td>P L MATERIAIS DE CONSTRUCAO E CONSTRUTORA</td>\n",
       "      <td>2022-11-07</td>\n",
       "      <td>2022-11-07</td>\n",
       "      <td>ARMACAO DOS BUZIOS</td>\n",
       "      <td>RJ</td>\n",
       "      <td>ESTRADA ALVARO ELIDIO GONCALVES, 20 - BAIA FOR...</td>\n",
       "      <td>2183867575</td>\n",
       "      <td>nannan</td>\n",
       "      <td>48533936</td>\n",
       "    </tr>\n",
       "    <tr>\n",
       "      <th>11</th>\n",
       "      <td>22.055.731/0001-77</td>\n",
       "      <td>MATRIZ</td>\n",
       "      <td>MARMORARIA GESSICA</td>\n",
       "      <td>2015-03-12</td>\n",
       "      <td>2015-03-12</td>\n",
       "      <td>ARMACAO DOS BUZIOS</td>\n",
       "      <td>RJ</td>\n",
       "      <td>RUA DEZESSEIS, 01 - RASA, 28950000</td>\n",
       "      <td>2297865494</td>\n",
       "      <td>nannan</td>\n",
       "      <td>22055731</td>\n",
       "    </tr>\n",
       "    <tr>\n",
       "      <th>12</th>\n",
       "      <td>23.748.991/0001-90</td>\n",
       "      <td>MATRIZ</td>\n",
       "      <td>P&amp;S ACAITERIA E CAFETERIA</td>\n",
       "      <td>2015-11-27</td>\n",
       "      <td>2015-11-27</td>\n",
       "      <td>ARMACAO DOS BUZIOS</td>\n",
       "      <td>RJ</td>\n",
       "      <td>RUA FLAMBOYANT, 3381 - VILA VERDE, 28959540</td>\n",
       "      <td>2196475681</td>\n",
       "      <td>nannan</td>\n",
       "      <td>23748991</td>\n",
       "    </tr>\n",
       "    <tr>\n",
       "      <th>13</th>\n",
       "      <td>21.075.249/0001-36</td>\n",
       "      <td>MATRIZ</td>\n",
       "      <td>SO MATERIAL BRUTO</td>\n",
       "      <td>2014-09-19</td>\n",
       "      <td>2014-09-19</td>\n",
       "      <td>ARMACAO DOS BUZIOS</td>\n",
       "      <td>RJ</td>\n",
       "      <td>AVENIDA AVENIDA JOSE GONSALVES, 45 - LOJA - RA...</td>\n",
       "      <td>2299217172</td>\n",
       "      <td>nannan</td>\n",
       "      <td>21075249</td>\n",
       "    </tr>\n",
       "    <tr>\n",
       "      <th>14</th>\n",
       "      <td>09.606.448/0001-28</td>\n",
       "      <td>MATRIZ</td>\n",
       "      <td>CASA DAS PEDRAS</td>\n",
       "      <td>2008-06-05</td>\n",
       "      <td>2008-06-05</td>\n",
       "      <td>ARMACAO DOS BUZIOS</td>\n",
       "      <td>RJ</td>\n",
       "      <td>AVENIDA JUSTINIANO DE SOUZA, S/N - QUADRA01   ...</td>\n",
       "      <td>2226237252</td>\n",
       "      <td>nannan</td>\n",
       "      <td>09606448</td>\n",
       "    </tr>\n",
       "    <tr>\n",
       "      <th>15</th>\n",
       "      <td>27.005.897/0001-00</td>\n",
       "      <td>MATRIZ</td>\n",
       "      <td>PARAFUSO CERTO</td>\n",
       "      <td>2017-02-01</td>\n",
       "      <td>2017-02-01</td>\n",
       "      <td>ARMACAO DOS BUZIOS</td>\n",
       "      <td>RJ</td>\n",
       "      <td>AVENIDA AV JOSE BENTO RIBEIRO DANTAS, 36B - MA...</td>\n",
       "      <td>2226230457</td>\n",
       "      <td>nannan</td>\n",
       "      <td>27005897</td>\n",
       "    </tr>\n",
       "    <tr>\n",
       "      <th>16</th>\n",
       "      <td>30.754.943/0001-70</td>\n",
       "      <td>MATRIZ</td>\n",
       "      <td>AG MATERIAIS DE CONSTRUCAO E FERRAGENS</td>\n",
       "      <td>2021-03-23</td>\n",
       "      <td>2018-06-21</td>\n",
       "      <td>ARMACAO DOS BUZIOS</td>\n",
       "      <td>RJ</td>\n",
       "      <td>RUA DAS ANCHOVAS, 02 - CAMPOS NOVOS, 28950000</td>\n",
       "      <td>2297357827</td>\n",
       "      <td>nannan</td>\n",
       "      <td>30754943</td>\n",
       "    </tr>\n",
       "    <tr>\n",
       "      <th>17</th>\n",
       "      <td>37.684.078/0001-82</td>\n",
       "      <td>MATRIZ</td>\n",
       "      <td>REZENDE CONSTRUCOES</td>\n",
       "      <td>2020-07-10</td>\n",
       "      <td>2020-07-10</td>\n",
       "      <td>ARMACAO DOS BUZIOS</td>\n",
       "      <td>RJ</td>\n",
       "      <td>RUA MERCEDES, 361 - LOJA  02 - CEM BRACAS, 289...</td>\n",
       "      <td>2226237828</td>\n",
       "      <td>nannan</td>\n",
       "      <td>37684078</td>\n",
       "    </tr>\n",
       "    <tr>\n",
       "      <th>18</th>\n",
       "      <td>42.608.399/0001-38</td>\n",
       "      <td>MATRIZ</td>\n",
       "      <td>NaN</td>\n",
       "      <td>2021-07-06</td>\n",
       "      <td>2021-07-06</td>\n",
       "      <td>ARMACAO DOS BUZIOS</td>\n",
       "      <td>RJ</td>\n",
       "      <td>AVENIDA JOSE BENTO RIBEIRO DANTAS, 845 - LOJA ...</td>\n",
       "      <td>2226235351</td>\n",
       "      <td>nannan</td>\n",
       "      <td>42608399</td>\n",
       "    </tr>\n",
       "    <tr>\n",
       "      <th>19</th>\n",
       "      <td>44.479.082/0001-74</td>\n",
       "      <td>MATRIZ</td>\n",
       "      <td>J D S L DISTRIBUIDORA DE TIJOLOS</td>\n",
       "      <td>2021-12-03</td>\n",
       "      <td>2021-12-03</td>\n",
       "      <td>ARMACAO DOS BUZIOS</td>\n",
       "      <td>RJ</td>\n",
       "      <td>ESTRADA ALVARO ELIDIO GONCALVES, 17 - BAIA FOR...</td>\n",
       "      <td>2297922545</td>\n",
       "      <td>nannan</td>\n",
       "      <td>44479082</td>\n",
       "    </tr>\n",
       "  </tbody>\n",
       "</table>\n",
       "</div>"
      ],
      "text/plain": [
       "                  CNPJ MATRIZ/FILIAL  \\\n",
       "0   48.655.028/0001-93        MATRIZ   \n",
       "1   35.897.727/0001-06        MATRIZ   \n",
       "2   07.795.506/0001-83        MATRIZ   \n",
       "3   10.908.849/0001-11        MATRIZ   \n",
       "4   11.168.542/0001-94        MATRIZ   \n",
       "5   10.635.668/0001-69        MATRIZ   \n",
       "6   29.803.331/0001-41        MATRIZ   \n",
       "7   37.927.956/0002-24        FILIAL   \n",
       "8   39.494.845/0001-16        MATRIZ   \n",
       "9   35.533.943/0001-64        MATRIZ   \n",
       "10  48.533.936/0001-04        MATRIZ   \n",
       "11  22.055.731/0001-77        MATRIZ   \n",
       "12  23.748.991/0001-90        MATRIZ   \n",
       "13  21.075.249/0001-36        MATRIZ   \n",
       "14  09.606.448/0001-28        MATRIZ   \n",
       "15  27.005.897/0001-00        MATRIZ   \n",
       "16  30.754.943/0001-70        MATRIZ   \n",
       "17  37.684.078/0001-82        MATRIZ   \n",
       "18  42.608.399/0001-38        MATRIZ   \n",
       "19  44.479.082/0001-74        MATRIZ   \n",
       "\n",
       "                                NOME_FANTASIA DATA_SIT_CAD DATA_INICIO_ATIV  \\\n",
       "0                             CASA DO CIMENTO   2022-11-18       2022-11-18   \n",
       "1              PONTAL MATERIAIS DE CONSTRUCAO   2004-07-10       1989-11-28   \n",
       "2                      CASA DAS CALHAS AQUINO   2006-01-12       2006-01-12   \n",
       "3                              STHEFANY PISOS   2021-07-06       2009-05-04   \n",
       "4                                         NaN   2009-09-10       2009-09-10   \n",
       "5                        LAGOS REPRESENTACOES   2020-01-29       2009-01-29   \n",
       "6                                         NaN   2022-02-21       2018-02-28   \n",
       "7                            ATACADAO DO PSIO   2020-08-12       2020-08-12   \n",
       "8                                  ART DESIGN   2020-10-20       2020-10-20   \n",
       "9                          GARRA PATAS E ASAS   2019-11-18       2019-11-18   \n",
       "10  P L MATERIAIS DE CONSTRUCAO E CONSTRUTORA   2022-11-07       2022-11-07   \n",
       "11                         MARMORARIA GESSICA   2015-03-12       2015-03-12   \n",
       "12                  P&S ACAITERIA E CAFETERIA   2015-11-27       2015-11-27   \n",
       "13                          SO MATERIAL BRUTO   2014-09-19       2014-09-19   \n",
       "14                            CASA DAS PEDRAS   2008-06-05       2008-06-05   \n",
       "15                             PARAFUSO CERTO   2017-02-01       2017-02-01   \n",
       "16     AG MATERIAIS DE CONSTRUCAO E FERRAGENS   2021-03-23       2018-06-21   \n",
       "17                        REZENDE CONSTRUCOES   2020-07-10       2020-07-10   \n",
       "18                                        NaN   2021-07-06       2021-07-06   \n",
       "19           J D S L DISTRIBUIDORA DE TIJOLOS   2021-12-03       2021-12-03   \n",
       "\n",
       "        NOME_MUNICIPIO  UF                                           ENDERECO  \\\n",
       "0   ARMACAO DOS BUZIOS  RJ  RUA ALVARO GONCALVES DOS SANTOS, 30 - RASA, 28...   \n",
       "1   ARMACAO DOS BUZIOS  RJ  AVENIDA JOSE BENTO RIBEIRO DANTAS, 04 - QUADRA...   \n",
       "2   ARMACAO DOS BUZIOS  RJ  AVENIDA JOSE BENTO RIBEIRO DANTAS, 1004 - MANG...   \n",
       "3   ARMACAO DOS BUZIOS  RJ                  RUA 35, 08 - VILA VERDE, 28950000   \n",
       "4   ARMACAO DOS BUZIOS  RJ  AVENIDA JOSE BENTO RIBEIRO DANTAS, 1001 - MANG...   \n",
       "5   ARMACAO DOS BUZIOS  RJ  RUA ALVARO GONCALVES DOS SANTOS, 30 - RASA, 28...   \n",
       "6   ARMACAO DOS BUZIOS  RJ    RUA Dois Amores  Lote 02, 04 - Tucuns, 28950000   \n",
       "7   ARMACAO DOS BUZIOS  RJ  AVENIDA JOSE BENTO RIBEIRO DANTAS, SN - LOJA  ...   \n",
       "8   ARMACAO DOS BUZIOS  RJ  AVENIDA JOSE BENTO RIBEIRO DANTA, SN - LOTE 41...   \n",
       "9   ARMACAO DOS BUZIOS  RJ                       RUA 22, S/N - RASA, 28950000   \n",
       "10  ARMACAO DOS BUZIOS  RJ  ESTRADA ALVARO ELIDIO GONCALVES, 20 - BAIA FOR...   \n",
       "11  ARMACAO DOS BUZIOS  RJ                 RUA DEZESSEIS, 01 - RASA, 28950000   \n",
       "12  ARMACAO DOS BUZIOS  RJ        RUA FLAMBOYANT, 3381 - VILA VERDE, 28959540   \n",
       "13  ARMACAO DOS BUZIOS  RJ  AVENIDA AVENIDA JOSE GONSALVES, 45 - LOJA - RA...   \n",
       "14  ARMACAO DOS BUZIOS  RJ  AVENIDA JUSTINIANO DE SOUZA, S/N - QUADRA01   ...   \n",
       "15  ARMACAO DOS BUZIOS  RJ  AVENIDA AV JOSE BENTO RIBEIRO DANTAS, 36B - MA...   \n",
       "16  ARMACAO DOS BUZIOS  RJ      RUA DAS ANCHOVAS, 02 - CAMPOS NOVOS, 28950000   \n",
       "17  ARMACAO DOS BUZIOS  RJ  RUA MERCEDES, 361 - LOJA  02 - CEM BRACAS, 289...   \n",
       "18  ARMACAO DOS BUZIOS  RJ  AVENIDA JOSE BENTO RIBEIRO DANTAS, 845 - LOJA ...   \n",
       "19  ARMACAO DOS BUZIOS  RJ  ESTRADA ALVARO ELIDIO GONCALVES, 17 - BAIA FOR...   \n",
       "\n",
       "     TELEFONE1   TELEFONE2 CNPJ_BASICO  \n",
       "0   2299001442      nannan    48655028  \n",
       "1   2226291258      nannan    35897727  \n",
       "2   2226448021      nannan    07795506  \n",
       "3   2227718261  2288232514    10908849  \n",
       "4   2226236965      nannan    11168542  \n",
       "5   2299599466      nannan    10635668  \n",
       "6   2226234786      nannan    29803331  \n",
       "7   2226441320      nannan    37927956  \n",
       "8   2274019699      nannan    39494845  \n",
       "9   2296227513      nannan    35533943  \n",
       "10  2183867575      nannan    48533936  \n",
       "11  2297865494      nannan    22055731  \n",
       "12  2196475681      nannan    23748991  \n",
       "13  2299217172      nannan    21075249  \n",
       "14  2226237252      nannan    09606448  \n",
       "15  2226230457      nannan    27005897  \n",
       "16  2297357827      nannan    30754943  \n",
       "17  2226237828      nannan    37684078  \n",
       "18  2226235351      nannan    42608399  \n",
       "19  2297922545      nannan    44479082  "
      ]
     },
     "execution_count": 153,
     "metadata": {},
     "output_type": "execute_result"
    }
   ],
   "source": [
    "arq.head(20)"
   ]
  },
  {
   "cell_type": "code",
   "execution_count": 154,
   "id": "0f96eaa1",
   "metadata": {},
   "outputs": [
    {
     "data": {
      "text/plain": [
       "16750"
      ]
     },
     "execution_count": 154,
     "metadata": {},
     "output_type": "execute_result"
    }
   ],
   "source": [
    "len(arq)"
   ]
  },
  {
   "cell_type": "code",
   "execution_count": 155,
   "id": "e5c52578",
   "metadata": {},
   "outputs": [],
   "source": [
    "arq.to_csv( \"rio_de_janeiro.csv\", index=False, sep=',')"
   ]
  },
  {
   "cell_type": "code",
   "execution_count": null,
   "id": "d12d7bc6",
   "metadata": {},
   "outputs": [],
   "source": []
  }
 ],
 "metadata": {
  "kernelspec": {
   "display_name": "Python 3",
   "language": "python",
   "name": "python3"
  },
  "language_info": {
   "codemirror_mode": {
    "name": "ipython",
    "version": 3
   },
   "file_extension": ".py",
   "mimetype": "text/x-python",
   "name": "python",
   "nbconvert_exporter": "python",
   "pygments_lexer": "ipython3",
   "version": "3.8.8"
  }
 },
 "nbformat": 4,
 "nbformat_minor": 5
}
